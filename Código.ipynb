{
 "cells": [
  {
   "cell_type": "markdown",
   "metadata": {},
   "source": [
    "# Proyecto: análisis estadístico de datos\n",
    "\n",
    "**Objetivo :** identificar si alguno de los indicadores que conforman el Índice de Desarrollo Social de la Ciudad de México muestra relación con la presencia del delito en las alcaldías de la ciudad."
   ]
  },
  {
   "cell_type": "markdown",
   "metadata": {},
   "source": [
    "# 1. Import libraries"
   ]
  },
  {
   "cell_type": "code",
   "execution_count": 263,
   "metadata": {},
   "outputs": [],
   "source": [
    "import pandas as pd\n",
    "import numpy as np\n",
    "import statsmodels.api as sm\n",
    "import matplotlib.pyplot as plt\n",
    "import seaborn as sns\n",
    "import datetime\n",
    "from scipy.stats import ttest_ind, ttest_rel, ttest_1samp, chi2_contingency"
   ]
  },
  {
   "cell_type": "markdown",
   "metadata": {},
   "source": [
    "# 2. Data cleaning "
   ]
  },
  {
   "cell_type": "markdown",
   "metadata": {},
   "source": [
    "Aquí limpio mi base de datos orginal y agrego los indicadores que me interesan para cada alcaldía de la Ciudad de México."
   ]
  },
  {
   "cell_type": "code",
   "execution_count": 93,
   "metadata": {},
   "outputs": [
    {
     "data": {
      "text/plain": [
       "106627"
      ]
     },
     "execution_count": 93,
     "metadata": {},
     "output_type": "execute_result"
    }
   ],
   "source": [
    "# Importo mi base de delitos y limpio missing values\n",
    "data = pd.read_csv('datos.csv')\n",
    "len(data)"
   ]
  },
  {
   "cell_type": "code",
   "execution_count": 94,
   "metadata": {},
   "outputs": [
    {
     "data": {
      "text/plain": [
       "Unnamed: 0             0\n",
       "ao_hechos             38\n",
       "fecha_hechos          14\n",
       "delito                 0\n",
       "categoria_delito       0\n",
       "alcaldia_hechos      193\n",
       "colonia_hechos      2101\n",
       "geopoint            1998\n",
       "dtype: int64"
      ]
     },
     "execution_count": 94,
     "metadata": {},
     "output_type": "execute_result"
    }
   ],
   "source": [
    "data.isna().sum() "
   ]
  },
  {
   "cell_type": "code",
   "execution_count": 95,
   "metadata": {},
   "outputs": [],
   "source": [
    "delitos = data.dropna()"
   ]
  },
  {
   "cell_type": "code",
   "execution_count": 96,
   "metadata": {},
   "outputs": [
    {
     "data": {
      "text/html": [
       "<div>\n",
       "<style scoped>\n",
       "    .dataframe tbody tr th:only-of-type {\n",
       "        vertical-align: middle;\n",
       "    }\n",
       "\n",
       "    .dataframe tbody tr th {\n",
       "        vertical-align: top;\n",
       "    }\n",
       "\n",
       "    .dataframe thead th {\n",
       "        text-align: right;\n",
       "    }\n",
       "</style>\n",
       "<table border=\"1\" class=\"dataframe\">\n",
       "  <thead>\n",
       "    <tr style=\"text-align: right;\">\n",
       "      <th></th>\n",
       "      <th>Unnamed: 0</th>\n",
       "      <th>ao_hechos</th>\n",
       "      <th>fecha_hechos</th>\n",
       "      <th>delito</th>\n",
       "      <th>categoria_delito</th>\n",
       "      <th>alcaldia_hechos</th>\n",
       "      <th>colonia_hechos</th>\n",
       "      <th>geopoint</th>\n",
       "    </tr>\n",
       "  </thead>\n",
       "  <tbody>\n",
       "    <tr>\n",
       "      <th>0</th>\n",
       "      <td>11302</td>\n",
       "      <td>2017.0</td>\n",
       "      <td>2017-08-17 22:30:00</td>\n",
       "      <td>FEMINICIDIO</td>\n",
       "      <td>HOMICIDIO DOLOSO</td>\n",
       "      <td>GUSTAVO A MADERO</td>\n",
       "      <td>15 DE AGOSTO</td>\n",
       "      <td>19.4845550683,-99.1071904777</td>\n",
       "    </tr>\n",
       "    <tr>\n",
       "      <th>2</th>\n",
       "      <td>31913</td>\n",
       "      <td>2016.0</td>\n",
       "      <td>2016-07-12 03:30:00</td>\n",
       "      <td>FEMINICIDIO</td>\n",
       "      <td>HOMICIDIO DOLOSO</td>\n",
       "      <td>GUSTAVO A MADERO</td>\n",
       "      <td>AMPLIACIÓN GABRIEL HERNÁNDEZ</td>\n",
       "      <td>19.50471156,-99.0992649081</td>\n",
       "    </tr>\n",
       "  </tbody>\n",
       "</table>\n",
       "</div>"
      ],
      "text/plain": [
       "   Unnamed: 0  ao_hechos         fecha_hechos       delito  categoria_delito  \\\n",
       "0       11302     2017.0  2017-08-17 22:30:00  FEMINICIDIO  HOMICIDIO DOLOSO   \n",
       "2       31913     2016.0  2016-07-12 03:30:00  FEMINICIDIO  HOMICIDIO DOLOSO   \n",
       "\n",
       "    alcaldia_hechos                colonia_hechos  \\\n",
       "0  GUSTAVO A MADERO                  15 DE AGOSTO   \n",
       "2  GUSTAVO A MADERO  AMPLIACIÓN GABRIEL HERNÁNDEZ   \n",
       "\n",
       "                       geopoint  \n",
       "0  19.4845550683,-99.1071904777  \n",
       "2    19.50471156,-99.0992649081  "
      ]
     },
     "execution_count": 96,
     "metadata": {},
     "output_type": "execute_result"
    }
   ],
   "source": [
    "delitos.head(2)\n",
    "# Me queda una base de 104466 filas."
   ]
  },
  {
   "cell_type": "code",
   "execution_count": 102,
   "metadata": {},
   "outputs": [
    {
     "data": {
      "text/html": [
       "<div>\n",
       "<style scoped>\n",
       "    .dataframe tbody tr th:only-of-type {\n",
       "        vertical-align: middle;\n",
       "    }\n",
       "\n",
       "    .dataframe tbody tr th {\n",
       "        vertical-align: top;\n",
       "    }\n",
       "\n",
       "    .dataframe thead th {\n",
       "        text-align: right;\n",
       "    }\n",
       "</style>\n",
       "<table border=\"1\" class=\"dataframe\">\n",
       "  <thead>\n",
       "    <tr style=\"text-align: right;\">\n",
       "      <th></th>\n",
       "      <th>Unnamed: 0</th>\n",
       "      <th>ao_hechos</th>\n",
       "    </tr>\n",
       "    <tr>\n",
       "      <th>alcaldia_hechos</th>\n",
       "      <th></th>\n",
       "      <th></th>\n",
       "    </tr>\n",
       "  </thead>\n",
       "  <tbody>\n",
       "    <tr>\n",
       "      <th>ALVARO OBREGON</th>\n",
       "      <td>4496834116</td>\n",
       "      <td>15695167.0</td>\n",
       "    </tr>\n",
       "    <tr>\n",
       "      <th>AZCAPOTZALCO</th>\n",
       "      <td>2853960964</td>\n",
       "      <td>10068789.0</td>\n",
       "    </tr>\n",
       "    <tr>\n",
       "      <th>BENITO JUAREZ</th>\n",
       "      <td>2259260572</td>\n",
       "      <td>8102100.0</td>\n",
       "    </tr>\n",
       "    <tr>\n",
       "      <th>COYOACAN</th>\n",
       "      <td>3885025288</td>\n",
       "      <td>13823582.0</td>\n",
       "    </tr>\n",
       "    <tr>\n",
       "      <th>CUAJIMALPA DE MORELOS</th>\n",
       "      <td>1130333946</td>\n",
       "      <td>3850762.0</td>\n",
       "    </tr>\n",
       "    <tr>\n",
       "      <th>CUAUHTEMOC</th>\n",
       "      <td>4716944267</td>\n",
       "      <td>16735583.0</td>\n",
       "    </tr>\n",
       "    <tr>\n",
       "      <th>GUSTAVO A MADERO</th>\n",
       "      <td>7079684183</td>\n",
       "      <td>24547390.0</td>\n",
       "    </tr>\n",
       "    <tr>\n",
       "      <th>IZTACALCO</th>\n",
       "      <td>3610290614</td>\n",
       "      <td>12842722.0</td>\n",
       "    </tr>\n",
       "    <tr>\n",
       "      <th>IZTAPALAPA</th>\n",
       "      <td>10999970505</td>\n",
       "      <td>39209167.0</td>\n",
       "    </tr>\n",
       "    <tr>\n",
       "      <th>LA MAGDALENA CONTRERAS</th>\n",
       "      <td>2171138750</td>\n",
       "      <td>7735528.0</td>\n",
       "    </tr>\n",
       "    <tr>\n",
       "      <th>MIGUEL HIDALGO</th>\n",
       "      <td>2141298256</td>\n",
       "      <td>7326127.0</td>\n",
       "    </tr>\n",
       "    <tr>\n",
       "      <th>MILPA ALTA</th>\n",
       "      <td>945767274</td>\n",
       "      <td>3271487.0</td>\n",
       "    </tr>\n",
       "    <tr>\n",
       "      <th>TLAHUAC</th>\n",
       "      <td>2513795073</td>\n",
       "      <td>8845417.0</td>\n",
       "    </tr>\n",
       "    <tr>\n",
       "      <th>TLALPAN</th>\n",
       "      <td>4448543154</td>\n",
       "      <td>15950310.0</td>\n",
       "    </tr>\n",
       "    <tr>\n",
       "      <th>VENUSTIANO CARRANZA</th>\n",
       "      <td>3450393037</td>\n",
       "      <td>12048359.0</td>\n",
       "    </tr>\n",
       "    <tr>\n",
       "      <th>XOCHIMILCO</th>\n",
       "      <td>3016607813</td>\n",
       "      <td>10768476.0</td>\n",
       "    </tr>\n",
       "  </tbody>\n",
       "</table>\n",
       "</div>"
      ],
      "text/plain": [
       "                         Unnamed: 0   ao_hechos\n",
       "alcaldia_hechos                                \n",
       "ALVARO OBREGON           4496834116  15695167.0\n",
       "AZCAPOTZALCO             2853960964  10068789.0\n",
       "BENITO JUAREZ            2259260572   8102100.0\n",
       "COYOACAN                 3885025288  13823582.0\n",
       "CUAJIMALPA DE MORELOS    1130333946   3850762.0\n",
       "CUAUHTEMOC               4716944267  16735583.0\n",
       "GUSTAVO A MADERO         7079684183  24547390.0\n",
       "IZTACALCO                3610290614  12842722.0\n",
       "IZTAPALAPA              10999970505  39209167.0\n",
       "LA MAGDALENA CONTRERAS   2171138750   7735528.0\n",
       "MIGUEL HIDALGO           2141298256   7326127.0\n",
       "MILPA ALTA                945767274   3271487.0\n",
       "TLAHUAC                  2513795073   8845417.0\n",
       "TLALPAN                  4448543154  15950310.0\n",
       "VENUSTIANO CARRANZA      3450393037  12048359.0\n",
       "XOCHIMILCO               3016607813  10768476.0"
      ]
     },
     "execution_count": 102,
     "metadata": {},
     "output_type": "execute_result"
    }
   ],
   "source": [
    "alcaldia = delitos.groupby(by=['alcaldia_hechos']).sum()\n",
    "alcaldia"
   ]
  },
  {
   "cell_type": "code",
   "execution_count": 107,
   "metadata": {},
   "outputs": [],
   "source": [
    "delitos_ind = alcaldia.drop(columns= ['ao_hechos'])\n",
    "delitos_ind = delitos_ind.reset_index()\n",
    "delitos_ind = delitos_ind.rename(columns= {\"Unnamed: 0\": \"Delitos\"})"
   ]
  },
  {
   "cell_type": "code",
   "execution_count": 112,
   "metadata": {},
   "outputs": [
    {
     "data": {
      "text/html": [
       "<div>\n",
       "<style scoped>\n",
       "    .dataframe tbody tr th:only-of-type {\n",
       "        vertical-align: middle;\n",
       "    }\n",
       "\n",
       "    .dataframe tbody tr th {\n",
       "        vertical-align: top;\n",
       "    }\n",
       "\n",
       "    .dataframe thead th {\n",
       "        text-align: right;\n",
       "    }\n",
       "</style>\n",
       "<table border=\"1\" class=\"dataframe\">\n",
       "  <thead>\n",
       "    <tr style=\"text-align: right;\">\n",
       "      <th></th>\n",
       "      <th>alcaldia_hechos</th>\n",
       "      <th>Delitos</th>\n",
       "    </tr>\n",
       "  </thead>\n",
       "  <tbody>\n",
       "    <tr>\n",
       "      <th>0</th>\n",
       "      <td>ALVARO OBREGON</td>\n",
       "      <td>4496834116</td>\n",
       "    </tr>\n",
       "    <tr>\n",
       "      <th>1</th>\n",
       "      <td>AZCAPOTZALCO</td>\n",
       "      <td>2853960964</td>\n",
       "    </tr>\n",
       "    <tr>\n",
       "      <th>2</th>\n",
       "      <td>BENITO JUAREZ</td>\n",
       "      <td>2259260572</td>\n",
       "    </tr>\n",
       "    <tr>\n",
       "      <th>3</th>\n",
       "      <td>COYOACAN</td>\n",
       "      <td>3885025288</td>\n",
       "    </tr>\n",
       "    <tr>\n",
       "      <th>4</th>\n",
       "      <td>CUAJIMALPA DE MORELOS</td>\n",
       "      <td>1130333946</td>\n",
       "    </tr>\n",
       "    <tr>\n",
       "      <th>5</th>\n",
       "      <td>CUAUHTEMOC</td>\n",
       "      <td>4716944267</td>\n",
       "    </tr>\n",
       "    <tr>\n",
       "      <th>6</th>\n",
       "      <td>GUSTAVO A MADERO</td>\n",
       "      <td>7079684183</td>\n",
       "    </tr>\n",
       "    <tr>\n",
       "      <th>7</th>\n",
       "      <td>IZTACALCO</td>\n",
       "      <td>3610290614</td>\n",
       "    </tr>\n",
       "    <tr>\n",
       "      <th>8</th>\n",
       "      <td>IZTAPALAPA</td>\n",
       "      <td>10999970505</td>\n",
       "    </tr>\n",
       "    <tr>\n",
       "      <th>9</th>\n",
       "      <td>LA MAGDALENA CONTRERAS</td>\n",
       "      <td>2171138750</td>\n",
       "    </tr>\n",
       "  </tbody>\n",
       "</table>\n",
       "</div>"
      ],
      "text/plain": [
       "          alcaldia_hechos      Delitos\n",
       "0          ALVARO OBREGON   4496834116\n",
       "1            AZCAPOTZALCO   2853960964\n",
       "2           BENITO JUAREZ   2259260572\n",
       "3                COYOACAN   3885025288\n",
       "4   CUAJIMALPA DE MORELOS   1130333946\n",
       "5              CUAUHTEMOC   4716944267\n",
       "6        GUSTAVO A MADERO   7079684183\n",
       "7               IZTACALCO   3610290614\n",
       "8              IZTAPALAPA  10999970505\n",
       "9  LA MAGDALENA CONTRERAS   2171138750"
      ]
     },
     "execution_count": 112,
     "metadata": {},
     "output_type": "execute_result"
    }
   ],
   "source": [
    "delitos_ind.head(10)"
   ]
  },
  {
   "cell_type": "code",
   "execution_count": 113,
   "metadata": {},
   "outputs": [],
   "source": [
    "delitos_ind['Porcentaje'] = (delitos_ind['Delitos']/ delitos_ind['Delitos'].sum()) * 100"
   ]
  },
  {
   "cell_type": "code",
   "execution_count": 269,
   "metadata": {},
   "outputs": [],
   "source": [
    "#Defino las listas de los indicadores en el orden de las alcaldías\n",
    "# http://data.evalua.cdmx.gob.mx/files/indice/ids_evalua_2015.pdf\n",
    "\n",
    "#Calidad y espacio de la vivienda\n",
    "calidad_espacio = [0.71, 0.80, 0.94, 0.80, 0.69, 0.86, 0.71, 0.79, 0.66, 0.65, 0.90, 0.50, 0.61, 0.68, 0.79, 0.57]\n",
    "\n",
    "#Acceso a salud y seguridad social\n",
    "acceso_salud = [0.62, 0.71, 0.74, 0.64, 0.54, 0.65, 0.63, 0.65, 0.55, 0.61, 0.66, 0.41, 0.53, 0.54, 0.65, 0.49]\n",
    "\n",
    "#Rezago educativo\n",
    "rezago_edu = [0.95, 0.97, 0.99, 0.97, 0.94, 0.97, 0.95, 0.97, 0.94, 0.95, 0.99, 0.92, 0.94, 0.94, 0.97, 0.92]\n",
    "\n",
    "#Bienes durables\n",
    "bienes = [0.95, 0.96, 0.98, 0.96, 0.92, 0.96, 0.93, 0.96, 0.92, 0.93, 0.98, 0.82, 0.90, 0.92, 0.95, 0.87]\n",
    "\n",
    "#Adecuación sanitaria \n",
    "adecua_san= [0.90, 0.95, 0.99, 0.94, 0.80, 0.97, 0.89, 0.93, 0.84, 0.85, 0.98, 0.52, 0.74, 0.69, 0.95, 0.56]\n",
    "\n",
    "#Adecuación energética \n",
    "adecua_ener = [1.0, 1.0, 1.0, 1.0, 1.0, 1.0, 1.0, 1.0, 1.0, 1.0, 1.0, 1.0, 1.0, 1.0, 1.0, 1.0]\n",
    "\n",
    "#Índice de Desarrollo Social (valor)\n",
    "índice_desarrollo = [0.82, 0.88, 0.96, 0.88, 0.80, 0.89, 0.82, 0.86, 0.77, 0.79, 0.93, 0.64, 0.74, 0.78, 0.86, 0.70]"
   ]
  },
  {
   "cell_type": "code",
   "execution_count": 271,
   "metadata": {},
   "outputs": [],
   "source": [
    "delitos_ind['Calidad_espacio_vivienda'] = calidad_espacio\n",
    "delitos_ind['Acceso_salud_seguridad'] = acceso_salud\n",
    "delitos_ind['Rezago_educativo'] = rezago_edu\n",
    "delitos_ind['Bienes_durables'] = bienes\n",
    "delitos_ind['Adecuacion_Sanitaria'] = adecua_san\n",
    "delitos_ind['Adecuacion_Energética'] = adecua_ener\n",
    "delitos_ind['IDS'] = índice_desarrollo"
   ]
  },
  {
   "cell_type": "markdown",
   "metadata": {},
   "source": [
    "Aquí obtengo mi primer dataframe 'limpio': Delitos e Índice de Desarrollo Social por Alcaldía"
   ]
  },
  {
   "cell_type": "code",
   "execution_count": 272,
   "metadata": {
    "scrolled": true
   },
   "outputs": [
    {
     "data": {
      "text/html": [
       "<div>\n",
       "<style scoped>\n",
       "    .dataframe tbody tr th:only-of-type {\n",
       "        vertical-align: middle;\n",
       "    }\n",
       "\n",
       "    .dataframe tbody tr th {\n",
       "        vertical-align: top;\n",
       "    }\n",
       "\n",
       "    .dataframe thead th {\n",
       "        text-align: right;\n",
       "    }\n",
       "</style>\n",
       "<table border=\"1\" class=\"dataframe\">\n",
       "  <thead>\n",
       "    <tr style=\"text-align: right;\">\n",
       "      <th></th>\n",
       "      <th>alcaldia_hechos</th>\n",
       "      <th>Delitos</th>\n",
       "      <th>Porcentaje</th>\n",
       "      <th>Calidad_espacio_vivienda</th>\n",
       "      <th>Acceso_salud_seguridad</th>\n",
       "      <th>Rezago_educativo</th>\n",
       "      <th>Bienes_durables</th>\n",
       "      <th>Adecuacion_Sanitaria</th>\n",
       "      <th>Adecuacion_Energética</th>\n",
       "      <th>IDS</th>\n",
       "    </tr>\n",
       "  </thead>\n",
       "  <tbody>\n",
       "    <tr>\n",
       "      <th>0</th>\n",
       "      <td>ALVARO OBREGON</td>\n",
       "      <td>4496834116</td>\n",
       "      <td>7.529882</td>\n",
       "      <td>0.71</td>\n",
       "      <td>0.62</td>\n",
       "      <td>0.95</td>\n",
       "      <td>0.95</td>\n",
       "      <td>0.90</td>\n",
       "      <td>1.0</td>\n",
       "      <td>0.82</td>\n",
       "    </tr>\n",
       "    <tr>\n",
       "      <th>1</th>\n",
       "      <td>AZCAPOTZALCO</td>\n",
       "      <td>2853960964</td>\n",
       "      <td>4.778915</td>\n",
       "      <td>0.80</td>\n",
       "      <td>0.71</td>\n",
       "      <td>0.97</td>\n",
       "      <td>0.96</td>\n",
       "      <td>0.95</td>\n",
       "      <td>1.0</td>\n",
       "      <td>0.88</td>\n",
       "    </tr>\n",
       "    <tr>\n",
       "      <th>2</th>\n",
       "      <td>BENITO JUAREZ</td>\n",
       "      <td>2259260572</td>\n",
       "      <td>3.783098</td>\n",
       "      <td>0.94</td>\n",
       "      <td>0.74</td>\n",
       "      <td>0.99</td>\n",
       "      <td>0.98</td>\n",
       "      <td>0.99</td>\n",
       "      <td>1.0</td>\n",
       "      <td>0.96</td>\n",
       "    </tr>\n",
       "    <tr>\n",
       "      <th>3</th>\n",
       "      <td>COYOACAN</td>\n",
       "      <td>3885025288</td>\n",
       "      <td>6.505417</td>\n",
       "      <td>0.80</td>\n",
       "      <td>0.64</td>\n",
       "      <td>0.97</td>\n",
       "      <td>0.96</td>\n",
       "      <td>0.94</td>\n",
       "      <td>1.0</td>\n",
       "      <td>0.88</td>\n",
       "    </tr>\n",
       "    <tr>\n",
       "      <th>4</th>\n",
       "      <td>CUAJIMALPA DE MORELOS</td>\n",
       "      <td>1130333946</td>\n",
       "      <td>1.892727</td>\n",
       "      <td>0.69</td>\n",
       "      <td>0.54</td>\n",
       "      <td>0.94</td>\n",
       "      <td>0.92</td>\n",
       "      <td>0.80</td>\n",
       "      <td>1.0</td>\n",
       "      <td>0.80</td>\n",
       "    </tr>\n",
       "    <tr>\n",
       "      <th>5</th>\n",
       "      <td>CUAUHTEMOC</td>\n",
       "      <td>4716944267</td>\n",
       "      <td>7.898453</td>\n",
       "      <td>0.86</td>\n",
       "      <td>0.65</td>\n",
       "      <td>0.97</td>\n",
       "      <td>0.96</td>\n",
       "      <td>0.97</td>\n",
       "      <td>1.0</td>\n",
       "      <td>0.89</td>\n",
       "    </tr>\n",
       "    <tr>\n",
       "      <th>6</th>\n",
       "      <td>GUSTAVO A MADERO</td>\n",
       "      <td>7079684183</td>\n",
       "      <td>11.854826</td>\n",
       "      <td>0.71</td>\n",
       "      <td>0.63</td>\n",
       "      <td>0.95</td>\n",
       "      <td>0.93</td>\n",
       "      <td>0.89</td>\n",
       "      <td>1.0</td>\n",
       "      <td>0.82</td>\n",
       "    </tr>\n",
       "    <tr>\n",
       "      <th>7</th>\n",
       "      <td>IZTACALCO</td>\n",
       "      <td>3610290614</td>\n",
       "      <td>6.045378</td>\n",
       "      <td>0.79</td>\n",
       "      <td>0.65</td>\n",
       "      <td>0.97</td>\n",
       "      <td>0.96</td>\n",
       "      <td>0.93</td>\n",
       "      <td>1.0</td>\n",
       "      <td>0.86</td>\n",
       "    </tr>\n",
       "    <tr>\n",
       "      <th>8</th>\n",
       "      <td>IZTAPALAPA</td>\n",
       "      <td>10999970505</td>\n",
       "      <td>18.419288</td>\n",
       "      <td>0.66</td>\n",
       "      <td>0.55</td>\n",
       "      <td>0.94</td>\n",
       "      <td>0.92</td>\n",
       "      <td>0.84</td>\n",
       "      <td>1.0</td>\n",
       "      <td>0.77</td>\n",
       "    </tr>\n",
       "    <tr>\n",
       "      <th>9</th>\n",
       "      <td>LA MAGDALENA CONTRERAS</td>\n",
       "      <td>2171138750</td>\n",
       "      <td>3.635540</td>\n",
       "      <td>0.65</td>\n",
       "      <td>0.61</td>\n",
       "      <td>0.95</td>\n",
       "      <td>0.93</td>\n",
       "      <td>0.85</td>\n",
       "      <td>1.0</td>\n",
       "      <td>0.79</td>\n",
       "    </tr>\n",
       "    <tr>\n",
       "      <th>10</th>\n",
       "      <td>MIGUEL HIDALGO</td>\n",
       "      <td>2141298256</td>\n",
       "      <td>3.585572</td>\n",
       "      <td>0.90</td>\n",
       "      <td>0.66</td>\n",
       "      <td>0.99</td>\n",
       "      <td>0.98</td>\n",
       "      <td>0.98</td>\n",
       "      <td>1.0</td>\n",
       "      <td>0.93</td>\n",
       "    </tr>\n",
       "    <tr>\n",
       "      <th>11</th>\n",
       "      <td>MILPA ALTA</td>\n",
       "      <td>945767274</td>\n",
       "      <td>1.583673</td>\n",
       "      <td>0.50</td>\n",
       "      <td>0.41</td>\n",
       "      <td>0.92</td>\n",
       "      <td>0.82</td>\n",
       "      <td>0.52</td>\n",
       "      <td>1.0</td>\n",
       "      <td>0.64</td>\n",
       "    </tr>\n",
       "    <tr>\n",
       "      <th>12</th>\n",
       "      <td>TLAHUAC</td>\n",
       "      <td>2513795073</td>\n",
       "      <td>4.209313</td>\n",
       "      <td>0.61</td>\n",
       "      <td>0.53</td>\n",
       "      <td>0.94</td>\n",
       "      <td>0.90</td>\n",
       "      <td>0.74</td>\n",
       "      <td>1.0</td>\n",
       "      <td>0.74</td>\n",
       "    </tr>\n",
       "    <tr>\n",
       "      <th>13</th>\n",
       "      <td>TLALPAN</td>\n",
       "      <td>4448543154</td>\n",
       "      <td>7.449020</td>\n",
       "      <td>0.68</td>\n",
       "      <td>0.54</td>\n",
       "      <td>0.94</td>\n",
       "      <td>0.92</td>\n",
       "      <td>0.69</td>\n",
       "      <td>1.0</td>\n",
       "      <td>0.78</td>\n",
       "    </tr>\n",
       "    <tr>\n",
       "      <th>14</th>\n",
       "      <td>VENUSTIANO CARRANZA</td>\n",
       "      <td>3450393037</td>\n",
       "      <td>5.777632</td>\n",
       "      <td>0.79</td>\n",
       "      <td>0.65</td>\n",
       "      <td>0.97</td>\n",
       "      <td>0.95</td>\n",
       "      <td>0.95</td>\n",
       "      <td>1.0</td>\n",
       "      <td>0.86</td>\n",
       "    </tr>\n",
       "    <tr>\n",
       "      <th>15</th>\n",
       "      <td>XOCHIMILCO</td>\n",
       "      <td>3016607813</td>\n",
       "      <td>5.051265</td>\n",
       "      <td>0.57</td>\n",
       "      <td>0.49</td>\n",
       "      <td>0.92</td>\n",
       "      <td>0.87</td>\n",
       "      <td>0.56</td>\n",
       "      <td>1.0</td>\n",
       "      <td>0.70</td>\n",
       "    </tr>\n",
       "  </tbody>\n",
       "</table>\n",
       "</div>"
      ],
      "text/plain": [
       "           alcaldia_hechos      Delitos  Porcentaje  Calidad_espacio_vivienda  \\\n",
       "0           ALVARO OBREGON   4496834116    7.529882                      0.71   \n",
       "1             AZCAPOTZALCO   2853960964    4.778915                      0.80   \n",
       "2            BENITO JUAREZ   2259260572    3.783098                      0.94   \n",
       "3                 COYOACAN   3885025288    6.505417                      0.80   \n",
       "4    CUAJIMALPA DE MORELOS   1130333946    1.892727                      0.69   \n",
       "5               CUAUHTEMOC   4716944267    7.898453                      0.86   \n",
       "6         GUSTAVO A MADERO   7079684183   11.854826                      0.71   \n",
       "7                IZTACALCO   3610290614    6.045378                      0.79   \n",
       "8               IZTAPALAPA  10999970505   18.419288                      0.66   \n",
       "9   LA MAGDALENA CONTRERAS   2171138750    3.635540                      0.65   \n",
       "10          MIGUEL HIDALGO   2141298256    3.585572                      0.90   \n",
       "11              MILPA ALTA    945767274    1.583673                      0.50   \n",
       "12                 TLAHUAC   2513795073    4.209313                      0.61   \n",
       "13                 TLALPAN   4448543154    7.449020                      0.68   \n",
       "14     VENUSTIANO CARRANZA   3450393037    5.777632                      0.79   \n",
       "15              XOCHIMILCO   3016607813    5.051265                      0.57   \n",
       "\n",
       "    Acceso_salud_seguridad  Rezago_educativo  Bienes_durables  \\\n",
       "0                     0.62              0.95             0.95   \n",
       "1                     0.71              0.97             0.96   \n",
       "2                     0.74              0.99             0.98   \n",
       "3                     0.64              0.97             0.96   \n",
       "4                     0.54              0.94             0.92   \n",
       "5                     0.65              0.97             0.96   \n",
       "6                     0.63              0.95             0.93   \n",
       "7                     0.65              0.97             0.96   \n",
       "8                     0.55              0.94             0.92   \n",
       "9                     0.61              0.95             0.93   \n",
       "10                    0.66              0.99             0.98   \n",
       "11                    0.41              0.92             0.82   \n",
       "12                    0.53              0.94             0.90   \n",
       "13                    0.54              0.94             0.92   \n",
       "14                    0.65              0.97             0.95   \n",
       "15                    0.49              0.92             0.87   \n",
       "\n",
       "    Adecuacion_Sanitaria  Adecuacion_Energética   IDS  \n",
       "0                   0.90                    1.0  0.82  \n",
       "1                   0.95                    1.0  0.88  \n",
       "2                   0.99                    1.0  0.96  \n",
       "3                   0.94                    1.0  0.88  \n",
       "4                   0.80                    1.0  0.80  \n",
       "5                   0.97                    1.0  0.89  \n",
       "6                   0.89                    1.0  0.82  \n",
       "7                   0.93                    1.0  0.86  \n",
       "8                   0.84                    1.0  0.77  \n",
       "9                   0.85                    1.0  0.79  \n",
       "10                  0.98                    1.0  0.93  \n",
       "11                  0.52                    1.0  0.64  \n",
       "12                  0.74                    1.0  0.74  \n",
       "13                  0.69                    1.0  0.78  \n",
       "14                  0.95                    1.0  0.86  \n",
       "15                  0.56                    1.0  0.70  "
      ]
     },
     "execution_count": 272,
     "metadata": {},
     "output_type": "execute_result"
    }
   ],
   "source": [
    "delitos_ind"
   ]
  },
  {
   "cell_type": "markdown",
   "metadata": {},
   "source": [
    "Trabajo ahora con los añosde la base orginal para poder hacer una serie de tiempo con los tipos de delito"
   ]
  },
  {
   "cell_type": "code",
   "execution_count": 117,
   "metadata": {
    "scrolled": true
   },
   "outputs": [
    {
     "data": {
      "text/html": [
       "<div>\n",
       "<style scoped>\n",
       "    .dataframe tbody tr th:only-of-type {\n",
       "        vertical-align: middle;\n",
       "    }\n",
       "\n",
       "    .dataframe tbody tr th {\n",
       "        vertical-align: top;\n",
       "    }\n",
       "\n",
       "    .dataframe thead th {\n",
       "        text-align: right;\n",
       "    }\n",
       "</style>\n",
       "<table border=\"1\" class=\"dataframe\">\n",
       "  <thead>\n",
       "    <tr style=\"text-align: right;\">\n",
       "      <th></th>\n",
       "      <th>Unnamed: 0</th>\n",
       "      <th>ao_hechos</th>\n",
       "      <th>fecha_hechos</th>\n",
       "      <th>delito</th>\n",
       "      <th>categoria_delito</th>\n",
       "      <th>alcaldia_hechos</th>\n",
       "      <th>colonia_hechos</th>\n",
       "      <th>geopoint</th>\n",
       "    </tr>\n",
       "  </thead>\n",
       "  <tbody>\n",
       "    <tr>\n",
       "      <th>0</th>\n",
       "      <td>11302</td>\n",
       "      <td>2017.0</td>\n",
       "      <td>2017-08-17 22:30:00</td>\n",
       "      <td>FEMINICIDIO</td>\n",
       "      <td>HOMICIDIO DOLOSO</td>\n",
       "      <td>GUSTAVO A MADERO</td>\n",
       "      <td>15 DE AGOSTO</td>\n",
       "      <td>19.4845550683,-99.1071904777</td>\n",
       "    </tr>\n",
       "    <tr>\n",
       "      <th>2</th>\n",
       "      <td>31913</td>\n",
       "      <td>2016.0</td>\n",
       "      <td>2016-07-12 03:30:00</td>\n",
       "      <td>FEMINICIDIO</td>\n",
       "      <td>HOMICIDIO DOLOSO</td>\n",
       "      <td>GUSTAVO A MADERO</td>\n",
       "      <td>AMPLIACIÓN GABRIEL HERNÁNDEZ</td>\n",
       "      <td>19.50471156,-99.0992649081</td>\n",
       "    </tr>\n",
       "  </tbody>\n",
       "</table>\n",
       "</div>"
      ],
      "text/plain": [
       "   Unnamed: 0  ao_hechos         fecha_hechos       delito  categoria_delito  \\\n",
       "0       11302     2017.0  2017-08-17 22:30:00  FEMINICIDIO  HOMICIDIO DOLOSO   \n",
       "2       31913     2016.0  2016-07-12 03:30:00  FEMINICIDIO  HOMICIDIO DOLOSO   \n",
       "\n",
       "    alcaldia_hechos                colonia_hechos  \\\n",
       "0  GUSTAVO A MADERO                  15 DE AGOSTO   \n",
       "2  GUSTAVO A MADERO  AMPLIACIÓN GABRIEL HERNÁNDEZ   \n",
       "\n",
       "                       geopoint  \n",
       "0  19.4845550683,-99.1071904777  \n",
       "2    19.50471156,-99.0992649081  "
      ]
     },
     "execution_count": 117,
     "metadata": {},
     "output_type": "execute_result"
    }
   ],
   "source": [
    "delitos.head(2)"
   ]
  },
  {
   "cell_type": "code",
   "execution_count": 248,
   "metadata": {
    "scrolled": true
   },
   "outputs": [],
   "source": [
    "prueba = delitos.groupby(['ao_hechos','delito']).size().reset_index()"
   ]
  },
  {
   "cell_type": "code",
   "execution_count": 207,
   "metadata": {},
   "outputs": [
    {
     "data": {
      "text/html": [
       "<div>\n",
       "<style scoped>\n",
       "    .dataframe tbody tr th:only-of-type {\n",
       "        vertical-align: middle;\n",
       "    }\n",
       "\n",
       "    .dataframe tbody tr th {\n",
       "        vertical-align: top;\n",
       "    }\n",
       "\n",
       "    .dataframe thead th {\n",
       "        text-align: right;\n",
       "    }\n",
       "</style>\n",
       "<table border=\"1\" class=\"dataframe\">\n",
       "  <thead>\n",
       "    <tr style=\"text-align: right;\">\n",
       "      <th></th>\n",
       "      <th>deñito</th>\n",
       "      <th>frecuencia</th>\n",
       "    </tr>\n",
       "    <tr>\n",
       "      <th>Año</th>\n",
       "      <th></th>\n",
       "      <th></th>\n",
       "    </tr>\n",
       "  </thead>\n",
       "  <tbody>\n",
       "    <tr>\n",
       "      <th>1906.0</th>\n",
       "      <td>VIOLENCIA FAMILIAR</td>\n",
       "      <td>1</td>\n",
       "    </tr>\n",
       "    <tr>\n",
       "      <th>1942.0</th>\n",
       "      <td>VIOLENCIA FAMILIAR</td>\n",
       "      <td>1</td>\n",
       "    </tr>\n",
       "    <tr>\n",
       "      <th>1964.0</th>\n",
       "      <td>VIOLENCIA FAMILIAR</td>\n",
       "      <td>1</td>\n",
       "    </tr>\n",
       "    <tr>\n",
       "      <th>1969.0</th>\n",
       "      <td>VIOLENCIA FAMILIAR</td>\n",
       "      <td>1</td>\n",
       "    </tr>\n",
       "    <tr>\n",
       "      <th>1972.0</th>\n",
       "      <td>VIOLENCIA FAMILIAR</td>\n",
       "      <td>2</td>\n",
       "    </tr>\n",
       "  </tbody>\n",
       "</table>\n",
       "</div>"
      ],
      "text/plain": [
       "                    deñito  frecuencia\n",
       "Año                                   \n",
       "1906.0  VIOLENCIA FAMILIAR           1\n",
       "1942.0  VIOLENCIA FAMILIAR           1\n",
       "1964.0  VIOLENCIA FAMILIAR           1\n",
       "1969.0  VIOLENCIA FAMILIAR           1\n",
       "1972.0  VIOLENCIA FAMILIAR           2"
      ]
     },
     "execution_count": 207,
     "metadata": {},
     "output_type": "execute_result"
    }
   ],
   "source": [
    "violencia = prueba[prueba['delito'].isin(['VIOLENCIA FAMILIAR'])]\n",
    "violencia = violencia.rename(columns= {\"ao_hechos\": \"Año\", \"0\": \"Frecuencia\"})\n",
    "violencia= violencia.set_index('Año')\n",
    "violencia.columns= ['deñito', 'frecuencia']\n",
    "violencia.head()"
   ]
  },
  {
   "cell_type": "code",
   "execution_count": 206,
   "metadata": {},
   "outputs": [
    {
     "data": {
      "text/html": [
       "<div>\n",
       "<style scoped>\n",
       "    .dataframe tbody tr th:only-of-type {\n",
       "        vertical-align: middle;\n",
       "    }\n",
       "\n",
       "    .dataframe tbody tr th {\n",
       "        vertical-align: top;\n",
       "    }\n",
       "\n",
       "    .dataframe thead th {\n",
       "        text-align: right;\n",
       "    }\n",
       "</style>\n",
       "<table border=\"1\" class=\"dataframe\">\n",
       "  <thead>\n",
       "    <tr style=\"text-align: right;\">\n",
       "      <th></th>\n",
       "      <th>delito</th>\n",
       "      <th>frecuencia</th>\n",
       "    </tr>\n",
       "    <tr>\n",
       "      <th>Año</th>\n",
       "      <th></th>\n",
       "      <th></th>\n",
       "    </tr>\n",
       "  </thead>\n",
       "  <tbody>\n",
       "    <tr>\n",
       "      <th>2016.0</th>\n",
       "      <td>FEMINICIDIO</td>\n",
       "      <td>47</td>\n",
       "    </tr>\n",
       "    <tr>\n",
       "      <th>2017.0</th>\n",
       "      <td>FEMINICIDIO</td>\n",
       "      <td>41</td>\n",
       "    </tr>\n",
       "    <tr>\n",
       "      <th>2018.0</th>\n",
       "      <td>FEMINICIDIO</td>\n",
       "      <td>41</td>\n",
       "    </tr>\n",
       "    <tr>\n",
       "      <th>2019.0</th>\n",
       "      <td>FEMINICIDIO</td>\n",
       "      <td>28</td>\n",
       "    </tr>\n",
       "    <tr>\n",
       "      <th>2019.0</th>\n",
       "      <td>FEMINICIDIO POR ARMA BLANCA</td>\n",
       "      <td>16</td>\n",
       "    </tr>\n",
       "  </tbody>\n",
       "</table>\n",
       "</div>"
      ],
      "text/plain": [
       "                             delito  frecuencia\n",
       "Año                                            \n",
       "2016.0                  FEMINICIDIO          47\n",
       "2017.0                  FEMINICIDIO          41\n",
       "2018.0                  FEMINICIDIO          41\n",
       "2019.0                  FEMINICIDIO          28\n",
       "2019.0  FEMINICIDIO POR ARMA BLANCA          16"
      ]
     },
     "execution_count": 206,
     "metadata": {},
     "output_type": "execute_result"
    }
   ],
   "source": [
    "feminicidio = prueba[prueba['delito'].isin(['FEMINICIDIO', 'FEMINICIDIO POR ARMA BLANCA', 'FEMINICIDIO POR DISPARO DE ARMA DE FUEGO', 'FEMINICIDIO POR GOLPES'])]\n",
    "feminicidio = feminicidio.rename(columns= {\"ao_hechos\": \"Año\"})\n",
    "feminicidio = feminicidio.set_index('Año')\n",
    "feminicidio.columns = ['delito', 'frecuencia']\n",
    "feminicidio.head()"
   ]
  },
  {
   "cell_type": "code",
   "execution_count": 139,
   "metadata": {},
   "outputs": [
    {
     "data": {
      "text/plain": [
       "DatetimeIndex(['2017-08-17 22:30:00+00:00', '2016-07-12 03:30:00+00:00',\n",
       "               '2016-02-05 09:00:00+00:00', '2016-02-08 12:20:00+00:00',\n",
       "               '2016-02-19 08:30:00+00:00', '2016-09-11 12:30:00+00:00',\n",
       "               '2016-09-11 18:35:00+00:00', '2016-03-09 19:50:00+00:00',\n",
       "               '2016-03-12 07:30:00+00:00', '2016-03-15 21:00:00+00:00',\n",
       "               ...\n",
       "               '2020-10-31 09:30:00+00:00', '2020-10-31 02:00:00+00:00',\n",
       "               '2020-10-31 04:00:00+00:00', '2020-04-13 14:00:00+00:00',\n",
       "               '2020-10-31 15:20:00+00:00', '2020-10-31 13:30:00+00:00',\n",
       "               '2020-10-28 22:13:00+00:00', '2020-10-31 15:30:00+00:00',\n",
       "               '2020-10-31 18:00:00+00:00', '2020-10-31 19:00:00+00:00'],\n",
       "              dtype='datetime64[ns, UTC]', name='fecha_hechos', length=104466, freq=None)"
      ]
     },
     "execution_count": 139,
     "metadata": {},
     "output_type": "execute_result"
    }
   ],
   "source": [
    "#También saqué mi array de datetime para la base principal pero no pude hacer mi serie de tiempo porque me faltaban las frecuencias\n",
    "delitos.date = pd.to_datetime(delitos.date)\n",
    "delitos.index = pd.DatetimeIndex(delitos.date)\n",
    "delitos.index"
   ]
  },
  {
   "cell_type": "markdown",
   "metadata": {},
   "source": [
    "# 3. Hypothesis testing\n",
    "\n",
    "H0: El IDS no influye en la presencia del delito de género en las alcaldías de la CDMX.\n",
    "<br>H1: El IDS influye en la presencia del delito de género en las alcaldías de la CDMX."
   ]
  },
  {
   "cell_type": "markdown",
   "metadata": {},
   "source": [
    "# 4. Correlation"
   ]
  },
  {
   "cell_type": "markdown",
   "metadata": {},
   "source": [
    "Matrices de correlación y mapeo de correlaciones"
   ]
  },
  {
   "cell_type": "code",
   "execution_count": 166,
   "metadata": {},
   "outputs": [],
   "source": [
    "corr = delitos_ind.corr()"
   ]
  },
  {
   "cell_type": "code",
   "execution_count": 167,
   "metadata": {},
   "outputs": [
    {
     "data": {
      "image/png": "[encoded data removed]",
      "text/plain": [
       "<Figure size 792x648 with 2 Axes>"
      ]
     },
     "metadata": {
      "needs_background": "light"
     },
     "output_type": "display_data"
    }
   ],
   "source": [
    "#Mask\n",
    "mask = np.zeros_like(corr, dtype=np.bool)\n",
    "mask[np.triu_indices_from(mask)] = True\n",
    "\n",
    "#Figure\n",
    "f, ax = plt.subplots(figsize=(11, 9))\n",
    "\n",
    "#Colormap\n",
    "colmap = sns.diverging_palette(220, 10, as_cmap=True)\n",
    "\n",
    "#Heatmap\n",
    "sns.heatmap(corr, mask=mask, cmap=colmap, vmax=.3, center=0,\n",
    "            square=True, linewidths=.5, cbar_kws={\"shrink\": .5})\n",
    "plt.show()"
   ]
  },
  {
   "cell_type": "markdown",
   "metadata": {},
   "source": [
    "De acuerdo con la matriz de correlación, los indices de desarrollo urbano no son muy representativos respecto a los Delitos por alcaldía. Sin embargo hay dos indicadores que son menos relevantes para los delitos en las alcaldías: el rezago educativo y la calidad y espacio de la vivienda. "
   ]
  },
  {
   "cell_type": "code",
   "execution_count": 170,
   "metadata": {},
   "outputs": [
    {
     "data": {
      "text/plain": [
       "Delitos                             1.000000\n",
       "Porcentaje                          1.000000\n",
       "Calidad y espacio de la vivienda   -0.005201\n",
       "Acceso a salud y seguridad          0.057427\n",
       "Rezago educativo                   -0.077885\n",
       "Bienes durables                     0.124968\n",
       "Adecuación sanitaria                0.179336\n",
       "Adecuación energética                    NaN\n",
       "Name: Delitos, dtype: float64"
      ]
     },
     "execution_count": 170,
     "metadata": {},
     "output_type": "execute_result"
    }
   ],
   "source": [
    "corr['Delitos']"
   ]
  },
  {
   "cell_type": "markdown",
   "metadata": {},
   "source": [
    "La variable que muestran una \"mayor correlación\" con los delitos es la adecuación sanitaria, sin embargo  es sumamente pequeña, por lo cual no es realmente significativa. Como puede apreciarse en el próximo scatter plot no podemos hablar de una correlación para esta variable respecto a la presencia del delito."
   ]
  },
  {
   "cell_type": "code",
   "execution_count": 191,
   "metadata": {},
   "outputs": [
    {
     "data": {
      "image/png": "[encoded data removed]",
      "text/plain": [
       "<Figure size 504x432 with 1 Axes>"
      ]
     },
     "metadata": {},
     "output_type": "display_data"
    }
   ],
   "source": [
    "sns.set(style='white', palette='bright', rc={'figure.figsize':(7,6)})\n",
    "plt.scatter(delitos_ind.Adecuacion_Sanitaria, delitos_ind.Delitos);"
   ]
  },
  {
   "cell_type": "markdown",
   "metadata": {},
   "source": [
    "# 5. Regression\n",
    "Regresión lineal delitos - indicadores de desarrollo"
   ]
  },
  {
   "cell_type": "code",
   "execution_count": 273,
   "metadata": {},
   "outputs": [
    {
     "name": "stdout",
     "output_type": "stream",
     "text": [
      "                            OLS Regression Results                            \n",
      "==============================================================================\n",
      "Dep. Variable:             Porcentaje   R-squared:                       0.006\n",
      "Model:                            OLS   Adj. R-squared:                 -0.065\n",
      "Method:                 Least Squares   F-statistic:                   0.08544\n",
      "Date:                Tue, 26 Jan 2021   Prob (F-statistic):              0.774\n",
      "Time:                        20:07:43   Log-Likelihood:                -44.778\n",
      "No. Observations:                  16   AIC:                             93.56\n",
      "Df Residuals:                      14   BIC:                             95.10\n",
      "Df Model:                           1                                         \n",
      "Covariance Type:            nonrobust                                         \n",
      "====================================================================================\n",
      "                       coef    std err          t      P>|t|      [0.025      0.975]\n",
      "------------------------------------------------------------------------------------\n",
      "const               20.4234     48.500      0.421      0.680     -83.598     124.445\n",
      "Rezago_educativo   -14.8413     50.773     -0.292      0.774    -123.738      94.056\n",
      "==============================================================================\n",
      "Omnibus:                       14.322   Durbin-Watson:                   2.027\n",
      "Prob(Omnibus):                  0.001   Jarque-Bera (JB):               11.458\n",
      "Skew:                           1.587   Prob(JB):                      0.00325\n",
      "Kurtosis:                       5.668   Cond. No.                         91.4\n",
      "==============================================================================\n",
      "\n",
      "Notes:\n",
      "[1] Standard Errors assume that the covariance matrix of the errors is correctly specified.\n"
     ]
    },
    {
     "name": "stderr",
     "output_type": "stream",
     "text": [
      "/usr/local/lib/python3.8/site-packages/scipy/stats/stats.py:1603: UserWarning: kurtosistest only valid for n>=20 ... continuing anyway, n=16\n",
      "  warnings.warn(\"kurtosistest only valid for n>=20 ... continuing \"\n"
     ]
    }
   ],
   "source": [
    "X = sm.add_constant(delitos_ind.Rezago_educativo)\n",
    "Y = delitos_ind.Porcentaje\n",
    "\n",
    "model = sm.OLS(Y,X).fit()\n",
    "predictions= model.predict(X)\n",
    "\n",
    "print_model = model.summary()\n",
    "print(print_model)"
   ]
  },
  {
   "cell_type": "code",
   "execution_count": 274,
   "metadata": {},
   "outputs": [
    {
     "name": "stdout",
     "output_type": "stream",
     "text": [
      "                            OLS Regression Results                            \n",
      "==============================================================================\n",
      "Dep. Variable:             Porcentaje   R-squared:                       0.003\n",
      "Model:                            OLS   Adj. R-squared:                 -0.068\n",
      "Method:                 Least Squares   F-statistic:                   0.04632\n",
      "Date:                Tue, 26 Jan 2021   Prob (F-statistic):              0.833\n",
      "Time:                        20:08:05   Log-Likelihood:                -44.800\n",
      "No. Observations:                  16   AIC:                             93.60\n",
      "Df Residuals:                      14   BIC:                             95.15\n",
      "Df Model:                           1                                         \n",
      "Covariance Type:            nonrobust                                         \n",
      "==========================================================================================\n",
      "                             coef    std err          t      P>|t|      [0.025      0.975]\n",
      "------------------------------------------------------------------------------------------\n",
      "const                      4.5794      7.835      0.585      0.568     -12.224      21.383\n",
      "Acceso_salud_seguridad     2.7785     12.910      0.215      0.833     -24.910      30.467\n",
      "==============================================================================\n",
      "Omnibus:                       17.125   Durbin-Watson:                   2.076\n",
      "Prob(Omnibus):                  0.000   Jarque-Bera (JB):               15.375\n",
      "Skew:                           1.807   Prob(JB):                     0.000458\n",
      "Kurtosis:                       6.162   Cond. No.                         16.5\n",
      "==============================================================================\n",
      "\n",
      "Notes:\n",
      "[1] Standard Errors assume that the covariance matrix of the errors is correctly specified.\n"
     ]
    },
    {
     "name": "stderr",
     "output_type": "stream",
     "text": [
      "/usr/local/lib/python3.8/site-packages/scipy/stats/stats.py:1603: UserWarning: kurtosistest only valid for n>=20 ... continuing anyway, n=16\n",
      "  warnings.warn(\"kurtosistest only valid for n>=20 ... continuing \"\n"
     ]
    }
   ],
   "source": [
    "X = sm.add_constant(delitos_ind.Acceso_salud_seguridad)\n",
    "Y = delitos_ind.Porcentaje\n",
    "\n",
    "model = sm.OLS(Y,X).fit()\n",
    "predictions= model.predict(X)\n",
    "\n",
    "print_model = model.summary()\n",
    "print(print_model)"
   ]
  },
  {
   "cell_type": "code",
   "execution_count": 275,
   "metadata": {},
   "outputs": [
    {
     "name": "stdout",
     "output_type": "stream",
     "text": [
      "                            OLS Regression Results                            \n",
      "==============================================================================\n",
      "Dep. Variable:             Porcentaje   R-squared:                       0.000\n",
      "Model:                            OLS   Adj. R-squared:                 -0.071\n",
      "Method:                 Least Squares   F-statistic:                 0.0003786\n",
      "Date:                Tue, 26 Jan 2021   Prob (F-statistic):              0.985\n",
      "Time:                        20:08:26   Log-Likelihood:                -44.826\n",
      "No. Observations:                  16   AIC:                             93.65\n",
      "Df Residuals:                      14   BIC:                             95.20\n",
      "Df Model:                           1                                         \n",
      "Covariance Type:            nonrobust                                         \n",
      "============================================================================================\n",
      "                               coef    std err          t      P>|t|      [0.025      0.975]\n",
      "--------------------------------------------------------------------------------------------\n",
      "const                        6.3800      6.766      0.943      0.362      -8.131      20.891\n",
      "Calidad_espacio_vivienda    -0.1784      9.168     -0.019      0.985     -19.843      19.486\n",
      "==============================================================================\n",
      "Omnibus:                       15.786   Durbin-Watson:                   2.042\n",
      "Prob(Omnibus):                  0.000   Jarque-Bera (JB):               13.400\n",
      "Skew:                           1.707   Prob(JB):                      0.00123\n",
      "Kurtosis:                       5.907   Cond. No.                         13.2\n",
      "==============================================================================\n",
      "\n",
      "Notes:\n",
      "[1] Standard Errors assume that the covariance matrix of the errors is correctly specified.\n"
     ]
    },
    {
     "name": "stderr",
     "output_type": "stream",
     "text": [
      "/usr/local/lib/python3.8/site-packages/scipy/stats/stats.py:1603: UserWarning: kurtosistest only valid for n>=20 ... continuing anyway, n=16\n",
      "  warnings.warn(\"kurtosistest only valid for n>=20 ... continuing \"\n"
     ]
    }
   ],
   "source": [
    "X = sm.add_constant(delitos_ind.Calidad_espacio_vivienda)\n",
    "Y = delitos_ind.Porcentaje\n",
    "\n",
    "model = sm.OLS(Y,X).fit()\n",
    "predictions= model.predict(X)\n",
    "\n",
    "print_model = model.summary()\n",
    "print(print_model)"
   ]
  },
  {
   "cell_type": "code",
   "execution_count": 276,
   "metadata": {},
   "outputs": [
    {
     "name": "stdout",
     "output_type": "stream",
     "text": [
      "                            OLS Regression Results                            \n",
      "==============================================================================\n",
      "Dep. Variable:             Porcentaje   R-squared:                       0.016\n",
      "Model:                            OLS   Adj. R-squared:                 -0.055\n",
      "Method:                 Least Squares   F-statistic:                    0.2221\n",
      "Date:                Tue, 26 Jan 2021   Prob (F-statistic):              0.645\n",
      "Time:                        20:08:40   Log-Likelihood:                -44.701\n",
      "No. Observations:                  16   AIC:                             93.40\n",
      "Df Residuals:                      14   BIC:                             94.95\n",
      "Df Model:                           1                                         \n",
      "Covariance Type:            nonrobust                                         \n",
      "===================================================================================\n",
      "                      coef    std err          t      P>|t|      [0.025      0.975]\n",
      "-----------------------------------------------------------------------------------\n",
      "const              -5.2107     24.341     -0.214      0.834     -57.417      46.996\n",
      "Bienes_durables    12.2985     26.096      0.471      0.645     -43.672      68.269\n",
      "==============================================================================\n",
      "Omnibus:                       17.944   Durbin-Watson:                   2.106\n",
      "Prob(Omnibus):                  0.000   Jarque-Bera (JB):               16.649\n",
      "Skew:                           1.870   Prob(JB):                     0.000242\n",
      "Kurtosis:                       6.315   Cond. No.                         46.2\n",
      "==============================================================================\n",
      "\n",
      "Notes:\n",
      "[1] Standard Errors assume that the covariance matrix of the errors is correctly specified.\n"
     ]
    },
    {
     "name": "stderr",
     "output_type": "stream",
     "text": [
      "/usr/local/lib/python3.8/site-packages/scipy/stats/stats.py:1603: UserWarning: kurtosistest only valid for n>=20 ... continuing anyway, n=16\n",
      "  warnings.warn(\"kurtosistest only valid for n>=20 ... continuing \"\n"
     ]
    }
   ],
   "source": [
    "X = sm.add_constant(delitos_ind.Bienes_durables)\n",
    "Y = delitos_ind.Porcentaje\n",
    "\n",
    "model = sm.OLS(Y,X).fit()\n",
    "predictions= model.predict(X)\n",
    "\n",
    "print_model = model.summary()\n",
    "print(print_model)"
   ]
  },
  {
   "cell_type": "code",
   "execution_count": 277,
   "metadata": {},
   "outputs": [
    {
     "name": "stdout",
     "output_type": "stream",
     "text": [
      "                            OLS Regression Results                            \n",
      "==============================================================================\n",
      "Dep. Variable:             Porcentaje   R-squared:                       0.032\n",
      "Model:                            OLS   Adj. R-squared:                 -0.037\n",
      "Method:                 Least Squares   F-statistic:                    0.4652\n",
      "Date:                Tue, 26 Jan 2021   Prob (F-statistic):              0.506\n",
      "Time:                        20:08:58   Log-Likelihood:                -44.565\n",
      "No. Observations:                  16   AIC:                             93.13\n",
      "Df Residuals:                      14   BIC:                             94.68\n",
      "Df Model:                           1                                         \n",
      "Covariance Type:            nonrobust                                         \n",
      "========================================================================================\n",
      "                           coef    std err          t      P>|t|      [0.025      0.975]\n",
      "----------------------------------------------------------------------------------------\n",
      "const                    1.9999      6.319      0.317      0.756     -11.552      15.552\n",
      "Adecuacion_Sanitaria     5.0372      7.385      0.682      0.506     -10.802      20.877\n",
      "==============================================================================\n",
      "Omnibus:                       17.547   Durbin-Watson:                   2.139\n",
      "Prob(Omnibus):                  0.000   Jarque-Bera (JB):               16.021\n",
      "Skew:                           1.840   Prob(JB):                     0.000332\n",
      "Kurtosis:                       6.239   Cond. No.                         12.1\n",
      "==============================================================================\n",
      "\n",
      "Notes:\n",
      "[1] Standard Errors assume that the covariance matrix of the errors is correctly specified.\n"
     ]
    },
    {
     "name": "stderr",
     "output_type": "stream",
     "text": [
      "/usr/local/lib/python3.8/site-packages/scipy/stats/stats.py:1603: UserWarning: kurtosistest only valid for n>=20 ... continuing anyway, n=16\n",
      "  warnings.warn(\"kurtosistest only valid for n>=20 ... continuing \"\n"
     ]
    }
   ],
   "source": [
    "X = sm.add_constant(delitos_ind.Adecuacion_Sanitaria)\n",
    "Y = delitos_ind.Porcentaje\n",
    "\n",
    "model = sm.OLS(Y,X).fit()\n",
    "predictions= model.predict(X)\n",
    "\n",
    "print_model = model.summary()\n",
    "print(print_model)"
   ]
  },
  {
   "cell_type": "markdown",
   "metadata": {},
   "source": [
    "# Conclusión general\n",
    "Ninguno de los modelos de gresión muestra un buen ajuste. Esto nos indica que los indicadores que conformarn el índice de desarrollo de la Ciudad de México no tienen ninguna representatividad o significancia respecto a la presencia de delitos en la alcaldías de la ciudad. Por tanto, no se puede proceder a rechazar la hipótesis nula."
   ]
  },
  {
   "cell_type": "code",
   "execution_count": null,
   "metadata": {},
   "outputs": [],
   "source": []
  }
 ],
 "metadata": {
  "kernelspec": {
   "display_name": "Python 3",
   "language": "python",
   "name": "python3"
  },
  "language_info": {
   "codemirror_mode": {
    "name": "ipython",
    "version": 3
   },
   "file_extension": ".py",
   "mimetype": "text/x-python",
   "name": "python",
   "nbconvert_exporter": "python",
   "pygments_lexer": "ipython3",
   "version": "3.8.5"
  }
 },
 "nbformat": 4,
 "nbformat_minor": 4
}
